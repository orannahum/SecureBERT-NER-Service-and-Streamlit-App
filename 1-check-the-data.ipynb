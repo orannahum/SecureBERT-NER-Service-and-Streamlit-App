{
 "cells": [
  {
   "cell_type": "markdown",
   "metadata": {},
   "source": [
    "##### 1-check_the_data - This Jupyter notebook checks the initial data for a Named Entity Recognition (NER) task. It loads and preprocesses text into words and tags, creates a pandas DataFrame, and analyzes unique tags and token lengths to ensure data quality before further processing."
   ]
  },
  {
   "cell_type": "code",
   "execution_count": 62,
   "metadata": {},
   "outputs": [],
   "source": [
    "from functions import prepare_data\n",
    "import pandas as pd\n",
    "from datasets import Dataset\n"
   ]
  },
  {
   "cell_type": "code",
   "execution_count": 63,
   "metadata": {},
   "outputs": [
    {
     "name": "stdout",
     "output_type": "stream",
     "text": [
      "             Word        Tag\n",
      "0             The          O\n",
      "1       admin@338  B-HackOrg\n",
      "2             has          O\n",
      "3         largely          O\n",
      "4        targeted          O\n",
      "5   organizations          O\n",
      "6        involved          O\n",
      "7              in          O\n",
      "8       financial     B-Idus\n",
      "9               ,          O\n",
      "10       economic     B-Idus\n",
      "11            and          O\n",
      "12          trade     B-Idus\n",
      "13         policy     I-Idus\n",
      "14              ,          O\n",
      "15      typically          O\n",
      "16          using          O\n",
      "17       publicly     B-Tool\n",
      "18      available     I-Tool\n",
      "19           RATs     I-Tool\n"
     ]
    }
   ],
   "source": [
    "\n",
    "def load_data(file_path):\n",
    "    sentences = []\n",
    "    sentence = []\n",
    "    \n",
    "    with open(file_path, \"r\", encoding=\"utf-8\") as file:\n",
    "        for line in file:\n",
    "            line = line.strip()  # Remove whitespace from the start and end of the line\n",
    "            if not line:  # If the line is empty\n",
    "                if sentence:  # If there is a current sentence\n",
    "                    sentences.append(sentence)  # Add the current sentence to the list\n",
    "                    sentence = []  # Reset the current sentence\n",
    "            else:\n",
    "                parts = line.split()  # Split the line into parts\n",
    "                if len(parts) == 2:  # Ensure there are exactly two parts\n",
    "                    word, tag = parts  # Unpack the word and tag\n",
    "                    sentence.append((word, tag))  # Add the word and tag to the current sentence\n",
    "                else:\n",
    "                    pass\n",
    "\n",
    "    # Add the last sentence if it exists\n",
    "    if sentence:\n",
    "        sentences.append(sentence)\n",
    "\n",
    "    return sentences\n",
    "\n",
    "def preprocess(sentences):\n",
    "\n",
    "    words = []\n",
    "    tags = []\n",
    "    \n",
    "    for sentence in sentences:\n",
    "        words.append([word for word, tag in sentence])\n",
    "        tags.append([tag for word, tag in sentence])\n",
    "    \n",
    "    return words, tags\n",
    "\n",
    "def create_dataframe(words, tags):\n",
    "\n",
    "    df_data = {'Word': [], 'Tag': []}\n",
    "    \n",
    "    for sentence_words, sentence_tags in zip(words, tags):\n",
    "        df_data['Word'].extend(sentence_words)\n",
    "        df_data['Tag'].extend(sentence_tags)\n",
    "        df_data['Word'].append('')  \n",
    "        df_data['Tag'].append('')\n",
    "    \n",
    "    return pd.DataFrame(df_data)\n",
    "\n",
    "train_file_path = '/Users/guybasson/works_assigments/sleek_ml_engineer/datasets/train.txt'\n",
    "validation_file_path = '/Users/guybasson/works_assigments/sleek_ml_engineer/datasets/valid.txt'\n",
    "test_file_path = '/Users/guybasson/works_assigments/sleek_ml_engineer/datasets/test.txt'\n",
    "train_sentences = load_data(train_file_path)\n",
    "train_words, train_tags = preprocess(train_sentences)\n",
    "\n",
    "train_df = create_dataframe(train_words, train_tags)\n",
    "\n",
    "print(train_df.head(20))\n"
   ]
  },
  {
   "cell_type": "code",
   "execution_count": 64,
   "metadata": {},
   "outputs": [
    {
     "data": {
      "text/plain": [
       "array(['O', 'B-HackOrg', 'B-Idus', 'I-Idus', 'B-Tool', 'I-Tool', '',\n",
       "       'B-Area', 'I-Area', 'B-Org', 'I-Org', 'I-HackOrg', 'B-Time',\n",
       "       'I-Time', 'B-Way', 'I-Way', 'B-OffAct', 'B-SamFile', 'B-Features',\n",
       "       'I-Features', 'I-OffAct', 'B-SecTeam', 'B-Exp', 'I-Exp',\n",
       "       'I-SecTeam', 'B-Purp', 'I-Purp', 'I-SamFile'], dtype=object)"
      ]
     },
     "execution_count": 64,
     "metadata": {},
     "output_type": "execute_result"
    }
   ],
   "source": [
    "# unique tags\n",
    "train_df['Tag'].unique()"
   ]
  },
  {
   "cell_type": "code",
   "execution_count": 65,
   "metadata": {},
   "outputs": [
    {
     "data": {
      "text/plain": [
       "Tag\n",
       "O             110432\n",
       "                5251\n",
       "B-HackOrg       3419\n",
       "B-Tool          2449\n",
       "B-Area          2171\n",
       "B-OffAct        1412\n",
       "I-Tool          1386\n",
       "B-Idus          1349\n",
       "B-Time          1328\n",
       "I-Purp          1231\n",
       "B-SamFile       1221\n",
       "I-Features      1178\n",
       "B-Org           1113\n",
       "B-Exp           1068\n",
       "B-SecTeam        997\n",
       "I-HackOrg        977\n",
       "I-Org            958\n",
       "I-OffAct         851\n",
       "B-Way            828\n",
       "I-Area           816\n",
       "B-Features       812\n",
       "I-Time           794\n",
       "I-Way            785\n",
       "B-Purp           721\n",
       "I-SamFile        556\n",
       "I-Exp            538\n",
       "I-Idus           482\n",
       "I-SecTeam        473\n",
       "Name: count, dtype: int64"
      ]
     },
     "execution_count": 65,
     "metadata": {},
     "output_type": "execute_result"
    }
   ],
   "source": [
    "# count the number of unique tags\n",
    "train_df['Tag'].value_counts()"
   ]
  },
  {
   "cell_type": "code",
   "execution_count": 66,
   "metadata": {},
   "outputs": [
    {
     "data": {
      "text/plain": [
       "Index(['O', '', 'B-HackOrg', 'B-Tool', 'B-Area', 'B-OffAct', 'I-Tool',\n",
       "       'B-Idus', 'B-Time', 'I-Purp', 'B-SamFile', 'I-Features', 'B-Org',\n",
       "       'B-Exp', 'B-SecTeam', 'I-HackOrg', 'I-Org', 'I-OffAct', 'B-Way',\n",
       "       'I-Area', 'B-Features', 'I-Time', 'I-Way', 'B-Purp', 'I-SamFile',\n",
       "       'I-Exp', 'I-Idus', 'I-SecTeam'],\n",
       "      dtype='object', name='Tag')"
      ]
     },
     "execution_count": 66,
     "metadata": {},
     "output_type": "execute_result"
    }
   ],
   "source": [
    "train_df['Tag'].value_counts().index"
   ]
  },
  {
   "cell_type": "code",
   "execution_count": 67,
   "metadata": {},
   "outputs": [],
   "source": [
    "# up[load rad data as str \n",
    "with open(train_file_path, \"r\", encoding=\"utf-8\") as file:\n",
    "    train_raw_data = file.read()\n",
    "\n",
    "# do the same for the test data\n",
    "with open(test_file_path, \"r\", encoding=\"utf-8\") as file:\n",
    "    test_raw_data = file.read()\n",
    "\n",
    "# do the same for the validation data\n",
    "with open(validation_file_path, \"r\", encoding=\"utf-8\") as file:\n",
    "    val_raw_data = file.read()\n"
   ]
  },
  {
   "cell_type": "code",
   "execution_count": 68,
   "metadata": {},
   "outputs": [],
   "source": [
    "# Step 1: Filter out empty lines\n",
    "def check_max_tokens(data):\n",
    "    max_lines = 0\n",
    "    current_count = 0\n",
    "\n",
    "    # Step 2: Iterate through raw data\n",
    "    for line in data:\n",
    "        if line.strip():  # If the line is not empty\n",
    "            current_count += 1\n",
    "        else:  # If there's an empty line, check max and reset current count\n",
    "            max_lines = max(max_lines, current_count)\n",
    "            current_count = 0\n",
    "    return max_lines, current_count        \n",
    "\n",
    "# Check for the last group if it wasn't followed by an empty line\n",
    "max_lines_train, current_count_train = check_max_tokens(train_raw_data)\n",
    "max_tokens_train = max(max_lines_train, current_count_train)\n",
    "\n",
    "max_lines_test, current_count_test = check_max_tokens(test_raw_data)\n",
    "max_tokens_test = max(max_lines_test, current_count_test)\n",
    "\n",
    "max_lines_val, current_count_val = check_max_tokens(val_raw_data)\n",
    "max_tokens_val = max(max_lines_val, current_count_val)"
   ]
  },
  {
   "cell_type": "code",
   "execution_count": 69,
   "metadata": {},
   "outputs": [
    {
     "name": "stdout",
     "output_type": "stream",
     "text": [
      "Max tokens in train: 65\n",
      "Max tokens in test: 40\n",
      "Max tokens in val: 65\n"
     ]
    }
   ],
   "source": [
    "print(f\"Max tokens in train: {max_tokens_train}\")\n",
    "print(f\"Max tokens in test: {max_tokens_test}\")\n",
    "print(f\"Max tokens in val: {max_tokens_val}\")"
   ]
  },
  {
   "cell_type": "code",
   "execution_count": 70,
   "metadata": {},
   "outputs": [],
   "source": [
    "test_file_path = '/Users/guybasson/works_assigments/sleek_ml_engineer/datasets/test.txt'\n",
    "val_file_path = '/Users/guybasson/works_assigments/sleek_ml_engineer/datasets/valid.txt'\n",
    "\n",
    "# make val_raw_data and test_raw_data\n",
    "with open(test_file_path, \"r\", encoding=\"utf-8\") as file:\n",
    "    test_raw_data = file.read()\n",
    "\n",
    "with open(val_file_path, \"r\", encoding=\"utf-8\") as file:\n",
    "    val_raw_data = file.read()"
   ]
  },
  {
   "cell_type": "code",
   "execution_count": 71,
   "metadata": {},
   "outputs": [],
   "source": [
    "\n",
    "train_prepared_data = prepare_data(train_raw_data)[:400]\n",
    "test_prepared_data = prepare_data(test_raw_data)[:80]\n",
    "val_prepared_data = prepare_data(val_raw_data)"
   ]
  },
  {
   "cell_type": "code",
   "execution_count": 72,
   "metadata": {},
   "outputs": [
    {
     "data": {
      "text/plain": [
       "(400, 662)"
      ]
     },
     "execution_count": 72,
     "metadata": {},
     "output_type": "execute_result"
    }
   ],
   "source": [
    "len(train_prepared_data), len(val_prepared_data)"
   ]
  },
  {
   "cell_type": "code",
   "execution_count": 73,
   "metadata": {},
   "outputs": [
    {
     "name": "stdout",
     "output_type": "stream",
     "text": [
      "{'tokens': ['The', 'admin@338', 'has', 'largely', 'targeted', 'organizations', 'involved', 'in', 'financial', ',', 'economic', 'and', 'trade', 'policy', ',', 'typically', 'using', 'publicly', 'available', 'RATs', 'such', 'as', 'Poison', 'Ivy', ',', 'as', 'well', 'some', 'non-public', 'backdoors', '.'], 'labels': ['O', 'B-HackOrg', 'O', 'O', 'O', 'O', 'O', 'O', 'B-Idus', 'O', 'B-Idus', 'O', 'B-Idus', 'I-Idus', 'O', 'O', 'O', 'B-Tool', 'I-Tool', 'I-Tool', 'O', 'O', 'B-Tool', 'I-Tool', 'O', 'O', 'O', 'O', 'B-Tool', 'I-Tool', 'O']}\n"
     ]
    }
   ],
   "source": [
    "\n",
    "# Display the first prepared sentence\n",
    "print(train_prepared_data[0])"
   ]
  },
  {
   "cell_type": "code",
   "execution_count": 74,
   "metadata": {},
   "outputs": [],
   "source": [
    "\n",
    "# Create a Hugging Face Dataset from the prepared data\n",
    "train_dataset = Dataset.from_list(train_prepared_data)\n",
    "val_dataset = Dataset.from_list(val_prepared_data)"
   ]
  },
  {
   "cell_type": "code",
   "execution_count": 75,
   "metadata": {},
   "outputs": [
    {
     "name": "stdout",
     "output_type": "stream",
     "text": [
      "{'tokens': ['The', 'admin@338', 'has', 'largely', 'targeted', 'organizations', 'involved', 'in', 'financial', ',', 'economic', 'and', 'trade', 'policy', ',', 'typically', 'using', 'publicly', 'available', 'RATs', 'such', 'as', 'Poison', 'Ivy', ',', 'as', 'well', 'some', 'non-public', 'backdoors', '.'], 'labels': ['O', 'B-HackOrg', 'O', 'O', 'O', 'O', 'O', 'O', 'B-Idus', 'O', 'B-Idus', 'O', 'B-Idus', 'I-Idus', 'O', 'O', 'O', 'B-Tool', 'I-Tool', 'I-Tool', 'O', 'O', 'B-Tool', 'I-Tool', 'O', 'O', 'O', 'O', 'B-Tool', 'I-Tool', 'O']}\n",
      "{'tokens': ['We', 'believe', 'that', 'these', 'industries', 'have', 'also', 'been', 'targeted', 'as', 'part', 'of', 'a', 'larger', 'supply-chain', 'attack', 'in', 'order', 'for', 'Orangeworm', 'to', 'get', 'access', 'to', 'their', 'intended', 'victims', 'related', 'to', 'healthcare', '.'], 'labels': ['O', 'O', 'O', 'O', 'O', 'O', 'O', 'O', 'O', 'O', 'O', 'O', 'O', 'O', 'B-OffAct', 'I-OffAct', 'O', 'O', 'O', 'O', 'O', 'O', 'O', 'O', 'O', 'O', 'O', 'O', 'O', 'B-Idus', 'O']}\n"
     ]
    }
   ],
   "source": [
    "# Display the first prepared sentence as a Hugging Face Dataset\n",
    "print(train_dataset[0])\n",
    "print(val_dataset[0])"
   ]
  }
 ],
 "metadata": {
  "kernelspec": {
   "display_name": "Python 3",
   "language": "python",
   "name": "python3"
  },
  "language_info": {
   "codemirror_mode": {
    "name": "ipython",
    "version": 3
   },
   "file_extension": ".py",
   "mimetype": "text/x-python",
   "name": "python",
   "nbconvert_exporter": "python",
   "pygments_lexer": "ipython3",
   "version": "3.10.0"
  }
 },
 "nbformat": 4,
 "nbformat_minor": 2
}
